{
 "cells": [
  {
   "cell_type": "markdown",
   "id": "d301a79d",
   "metadata": {},
   "source": [
    "# 데이터 사전처리\n",
    "\n",
    "### 2. 중복 데이터 처리\n",
    "\n",
    "하나의 데이터셋에서 동일한 관측값(행)이 2개 이상 중복되는 경우 중복 데이터를 찾아서 삭제해야한다. 동일한 대상이 중복으로 존재하는 것이므로 분석 결과를 왜곡하기 때문이다."
   ]
  },
  {
   "cell_type": "markdown",
   "id": "8f2baba3",
   "metadata": {},
   "source": [
    "+ #### 중복 데이터 확인\n",
    "\n",
    "`duplicated()` 메소드 : 행의 레코드가 중복되는지 여부 확인\n",
    "\n",
    "전에 나온 행들과 비교하여 중복되는 행이면 True 반환, 처음 나오는 행에 대해서는 False 반환"
   ]
  },
  {
   "cell_type": "code",
   "execution_count": 2,
   "id": "fa989042",
   "metadata": {},
   "outputs": [
    {
     "name": "stdout",
     "output_type": "stream",
     "text": [
      "  c1  c2  c3\n",
      "0  a   1   1\n",
      "1  a   1   1\n",
      "2  b   1   2\n",
      "3  a   2   2\n",
      "4  b   2   2\n",
      "\n",
      "\n",
      "0    False\n",
      "1     True\n",
      "2    False\n",
      "3    False\n",
      "4    False\n",
      "dtype: bool\n",
      "\n",
      "\n"
     ]
    }
   ],
   "source": [
    "# 라이브러리 불러오기\n",
    "import pandas as pd\n",
    "\n",
    "# 중복 데이터를 갖는 데이터프레임 만들기\n",
    "df = pd.DataFrame({'c1':['a', 'a', 'b', 'a', 'b'],\n",
    "                  'c2':[1, 1, 1, 2, 2],\n",
    "                  'c3':[1, 1, 2, 2, 2]})\n",
    "print(df)\n",
    "print('\\n')\n",
    "\n",
    "# 데이터프레임 전체 행 데이터 중에서 중복값 찾기\n",
    "df_dup = df.duplicated()\n",
    "print(df_dup)\n",
    "print('\\n')"
   ]
  },
  {
   "cell_type": "markdown",
   "id": "1b25bd10",
   "metadata": {},
   "source": [
    "+ #### 데이터프레임의 특정 열 데이터에서 중복값 찾기"
   ]
  },
  {
   "cell_type": "code",
   "execution_count": 3,
   "id": "16d1ab03",
   "metadata": {
    "scrolled": true
   },
   "outputs": [
    {
     "name": "stdout",
     "output_type": "stream",
     "text": [
      "  c1  c2  c3\n",
      "0  a   1   1\n",
      "1  a   1   1\n",
      "2  b   1   2\n",
      "3  a   2   2\n",
      "4  b   2   2\n",
      "\n",
      "\n",
      "0    False\n",
      "1     True\n",
      "2     True\n",
      "3    False\n",
      "4     True\n",
      "Name: c2, dtype: bool\n"
     ]
    }
   ],
   "source": [
    "# 라이브러리 불러오기\n",
    "import pandas as pd\n",
    "\n",
    "# 중복 데이터를 갖는 데이터프레임 만들기\n",
    "df = pd.DataFrame({'c1':['a', 'a', 'b', 'a', 'b'],\n",
    "                  'c2':[1, 1, 1, 2, 2],\n",
    "                  'c3':[1, 1, 2, 2, 2]})\n",
    "print(df)\n",
    "print('\\n')\n",
    "\n",
    "col_dup = df['c2'].duplicated()\n",
    "print(col_dup)"
   ]
  },
  {
   "cell_type": "markdown",
   "id": "b1e0c742",
   "metadata": {},
   "source": [
    "+ #### 중복 데이터 제거\n",
    "\n",
    "drop_duplicates() 메소드 : 중복되는 행을 제거하고 고유한 관측값을 가진 행들만 남긴다. 원본 객체를 변경하려면 inplcae=True 옵션을 추가"
   ]
  },
  {
   "cell_type": "code",
   "execution_count": 4,
   "id": "8063a731",
   "metadata": {},
   "outputs": [
    {
     "name": "stdout",
     "output_type": "stream",
     "text": [
      "  c1  c2  c3\n",
      "0  a   1   1\n",
      "1  a   1   1\n",
      "2  b   1   2\n",
      "3  a   2   2\n",
      "4  b   2   2\n",
      "\n",
      "\n",
      "  c1  c2  c3\n",
      "0  a   1   1\n",
      "2  b   1   2\n",
      "3  a   2   2\n",
      "4  b   2   2\n",
      "\n",
      "\n",
      "  c1  c2  c3\n",
      "0  a   1   1\n",
      "2  b   1   2\n",
      "3  a   2   2\n"
     ]
    }
   ],
   "source": [
    "# 라이브러리 불러오기\n",
    "import pandas as pd\n",
    "\n",
    "# 중복 데이터를 갖는 데이터프레임 만들기\n",
    "df = pd.DataFrame({'c1':['a', 'a', 'b', 'a', 'b'],\n",
    "                  'c2':[1, 1, 1, 2, 2],\n",
    "                  'c3':[1, 1, 2, 2, 2]})\n",
    "print(df)\n",
    "print('\\n')\n",
    "\n",
    "# 데이터프레임에서 중복 행을 제거\n",
    "df2 = df.drop_duplicates()\n",
    "print(df2)\n",
    "print('\\n')"
   ]
  },
  {
   "cell_type": "markdown",
   "id": "378b15f4",
   "metadata": {},
   "source": [
    "데이터의 중복 여부를 판별할 때 기준이 되는 열 지정하기\n",
    "\n",
    "drop_duplicates() 메소드에 subset=['열 이름1', '열 이름2', ...]\n",
    "\n",
    "subset 옵션에 해당하는 열을 기준으로 데이터의 중복 여부를 판별한다.\n",
    "\n",
    "데이터프레임 df의 'c2','c3'열을 기준으로 판별하면 0행과 1행, 3행과 4행의 데이터가 각각 중복되어 1행과 4행의 데이터만 삭제된다. "
   ]
  },
  {
   "cell_type": "code",
   "execution_count": 5,
   "id": "dac5c9e2",
   "metadata": {},
   "outputs": [
    {
     "name": "stdout",
     "output_type": "stream",
     "text": [
      "  c1  c2  c3\n",
      "0  a   1   1\n",
      "1  a   1   1\n",
      "2  b   1   2\n",
      "3  a   2   2\n",
      "4  b   2   2\n",
      "\n",
      "\n",
      "  c1  c2  c3\n",
      "0  a   1   1\n",
      "2  b   1   2\n",
      "3  a   2   2\n"
     ]
    }
   ],
   "source": [
    "# 라이브러리 불러오기\n",
    "import pandas as pd\n",
    "\n",
    "# 중복 데이터를 갖는 데이터프레임 만들기\n",
    "df = pd.DataFrame({'c1':['a', 'a', 'b', 'a', 'b'],\n",
    "                  'c2':[1, 1, 1, 2, 2],\n",
    "                  'c3':[1, 1, 2, 2, 2]})\n",
    "print(df)\n",
    "print('\\n')\n",
    "\n",
    "# c2, c3열을 기준으로 중복 행을 제거\n",
    "df3 = df.drop_duplicates(subset=['c2', 'c3'])\n",
    "print(df3)"
   ]
  },
  {
   "cell_type": "markdown",
   "id": "b0a2ac4a",
   "metadata": {},
   "source": [
    "### 3. 데이터 표준화\n",
    "\n",
    "데이터 표준화 : 데이터 포맷을 일관성 있게 표준화 하는 작업\n",
    "\n",
    "__1. 단위 환산__\n",
    "\n",
    "측정 단위를 동일하게 맞추기\n",
    "\n",
    "ex) 마일, 야드, 온스 등을 미터, 평, 그램으로 변환\n",
    "\n",
    "'갤런당 마일'단위를 '리터당 킬로미터'단위로 변환하기\n",
    "\n",
    "(1마일은 1.60934km, 1갤런은 3.78541리터)"
   ]
  },
  {
   "cell_type": "code",
   "execution_count": 8,
   "id": "ca36b453",
   "metadata": {},
   "outputs": [
    {
     "name": "stdout",
     "output_type": "stream",
     "text": [
      "    mpg  cylinders  displacement horsepower  weight  acceleration  model year  \\\n",
      "0  18.0          8         307.0      130.0  3504.0          12.0          70   \n",
      "1  15.0          8         350.0      165.0  3693.0          11.5          70   \n",
      "2  18.0          8         318.0      150.0  3436.0          11.0          70   \n",
      "\n",
      "   origin                       name  \n",
      "0       1  chevrolet chevelle malibu  \n",
      "1       1          buick skylark 320  \n",
      "2       1         plymouth satellite  \n",
      "\n",
      "\n",
      "    mpg  cylinders  displacement horsepower  weight  acceleration  model year  \\\n",
      "0  18.0          8         307.0      130.0  3504.0          12.0          70   \n",
      "1  15.0          8         350.0      165.0  3693.0          11.5          70   \n",
      "2  18.0          8         318.0      150.0  3436.0          11.0          70   \n",
      "\n",
      "   origin                       name       kpl  \n",
      "0       1  chevrolet chevelle malibu  7.652571  \n",
      "1       1          buick skylark 320  6.377143  \n",
      "2       1         plymouth satellite  7.652571  \n",
      "\n",
      "\n",
      "    mpg  cylinders  displacement horsepower  weight  acceleration  model year  \\\n",
      "0  18.0          8         307.0      130.0  3504.0          12.0          70   \n",
      "1  15.0          8         350.0      165.0  3693.0          11.5          70   \n",
      "2  18.0          8         318.0      150.0  3436.0          11.0          70   \n",
      "\n",
      "   origin                       name   kpl  \n",
      "0       1  chevrolet chevelle malibu  7.65  \n",
      "1       1          buick skylark 320  6.38  \n",
      "2       1         plymouth satellite  7.65  \n"
     ]
    }
   ],
   "source": [
    "# 라이브러리 불러오기\n",
    "import pandas as pd\n",
    "\n",
    "# read_csv() 함수로 df 생성\n",
    "df = pd.read_csv(r\"C:\\Users\\구남이\\Downloads\\5674-833_4th\\part5\\auto-mpg.csv\", header=None)\n",
    "\n",
    "# 열 이름을 지정\n",
    "df.columns = ['mpg','cylinders','displacement','horsepower','weight',\n",
    "              'acceleration','model year','origin','name'] \n",
    "print(df.head(3))    \n",
    "print('\\n')\n",
    "\n",
    "# mpg(mile per gallon)를 kpl(kilometer per liter)로 변환 (mpg_to_kpl = 0.425)\n",
    "mpg_to_kpl = 1.60934 / 3.78541\n",
    "\n",
    "# mpg 열에 0.425를 곱한 결과를 새로운 열(kpl)에 추가\n",
    "df['kpl'] = df['mpg'] * mpg_to_kpl\n",
    "print(df.head(3))    \n",
    "print('\\n')\n",
    "\n",
    "# kpl 열을 소수점 아래 둘째 자리에서 반올림 \n",
    "df['kpl'] = df['kpl'].round(2)\n",
    "print(df.head(3))     "
   ]
  },
  {
   "cell_type": "markdown",
   "id": "e7548c63",
   "metadata": {},
   "source": [
    "__2. 자료형 변환__\n",
    "\n",
    "숫자가 문자열(object)로 저장된 경우에 숫자형(int 또는 float)으로 변환하기\n",
    "\n",
    "1. dtypes 속성 또는 info() 메소드를 사용하여 각 열의 자료형 확인하기\n",
    "\n",
    "2. unique() 메소드로 각 열의 고유값 확인\n",
    "\n",
    "3. 적절한 자료형으로 변환하기\n",
    "\n",
    "✏️자료형 변환 정리\n",
    "\n",
    "astype()의 인자 | 자료형\n",
    "----------------|-----\n",
    "'int64' | 정수형\n",
    "'float' | 실수형\n",
    "'category'| 범주형\n",
    "'str' | 문자형\n",
    "\n",
    "아래 예제를 따라가보면서 각 열을 적절한 자료형으로 변환해보기"
   ]
  },
  {
   "cell_type": "code",
   "execution_count": 10,
   "id": "69f350a4",
   "metadata": {},
   "outputs": [
    {
     "name": "stdout",
     "output_type": "stream",
     "text": [
      "mpg             float64\n",
      "cylinders         int64\n",
      "displacement    float64\n",
      "horsepower       object\n",
      "weight          float64\n",
      "acceleration    float64\n",
      "model year        int64\n",
      "origin            int64\n",
      "name             object\n",
      "dtype: object\n",
      "\n",
      "\n",
      "['130.0' '165.0' '150.0' '140.0' '198.0' '220.0' '215.0' '225.0' '190.0'\n",
      " '170.0' '160.0' '95.00' '97.00' '85.00' '88.00' '46.00' '87.00' '90.00'\n",
      " '113.0' '200.0' '210.0' '193.0' '?' '100.0' '105.0' '175.0' '153.0'\n",
      " '180.0' '110.0' '72.00' '86.00' '70.00' '76.00' '65.00' '69.00' '60.00'\n",
      " '80.00' '54.00' '208.0' '155.0' '112.0' '92.00' '145.0' '137.0' '158.0'\n",
      " '167.0' '94.00' '107.0' '230.0' '49.00' '75.00' '91.00' '122.0' '67.00'\n",
      " '83.00' '78.00' '52.00' '61.00' '93.00' '148.0' '129.0' '96.00' '71.00'\n",
      " '98.00' '115.0' '53.00' '81.00' '79.00' '120.0' '152.0' '102.0' '108.0'\n",
      " '68.00' '58.00' '149.0' '89.00' '63.00' '48.00' '66.00' '139.0' '103.0'\n",
      " '125.0' '133.0' '138.0' '135.0' '142.0' '77.00' '62.00' '132.0' '84.00'\n",
      " '64.00' '74.00' '116.0' '82.00']\n"
     ]
    }
   ],
   "source": [
    "# 라이브러리 불러오기\n",
    "import pandas as pd\n",
    "\n",
    "# read_csv() 함수로 df 생성\n",
    "df = pd.read_csv(r\"C:\\Users\\구남이\\Downloads\\5674-833_4th\\part5\\auto-mpg.csv\", header=None)\n",
    "\n",
    "# 열 이름을 지정\n",
    "df.columns = ['mpg','cylinders','displacement','horsepower','weight',\n",
    "              'acceleration','model year','origin','name'] \n",
    "\n",
    "# 각 열의 자료형 확인\n",
    "print(df.dtypes)   \n",
    "print('\\n')\n",
    "\n",
    "# horsepower 열의 고유값 확인\n",
    "print(df['horsepower'].unique())"
   ]
  },
  {
   "cell_type": "markdown",
   "id": "a3a026ce",
   "metadata": {},
   "source": [
    "엔진 출력을 나타내는 'horsepower'열은 숫자형이 적절, 출시연도를 나타내는'model=year'열과 출시국가를 뜻하는 'origin'열은 카테고리를 나타내는 범주형이 적절하다. \n",
    "\n",
    "'horsepower'의 고유값을 보면 문자열 '?'이 보이는데 이 때문에 문자열로 인식된 것으로 보인다. \n",
    "\n",
    "'?'이 있는 행은 삭제하고 나머지 값은 모두 숫자형으로 변환해준다."
   ]
  },
  {
   "cell_type": "code",
   "execution_count": 14,
   "id": "6158f200",
   "metadata": {},
   "outputs": [
    {
     "name": "stdout",
     "output_type": "stream",
     "text": [
      "float64\n"
     ]
    }
   ],
   "source": [
    "# 라이브러리 불러오기\n",
    "import pandas as pd\n",
    "\n",
    "# read_csv() 함수로 df 생성\n",
    "df = pd.read_csv(r\"C:\\Users\\구남이\\Downloads\\5674-833_4th\\part5\\auto-mpg.csv\", header=None)\n",
    "# 열 이름을 지정\n",
    "df.columns = ['mpg','cylinders','displacement','horsepower','weight',\n",
    "              'acceleration','model year','origin','name'] \n",
    "\n",
    "# 누락 데이터('?') 삭제 \n",
    "import numpy as np\n",
    "df['horsepower'].replace('?', np.nan, inplace=True)      # '?'을 np.nan으로 변경\n",
    "df.dropna(subset=['horsepower'], axis=0, inplace=True)   # 누락데이터 행을 삭제\n",
    "df['horsepower'] = df['horsepower'].astype('float')      # 문자열을 실수형으로 변환\n",
    "\n",
    "# horsepower 열의 자료형 확인\n",
    "print(df['horsepower'].dtypes)   "
   ]
  },
  {
   "cell_type": "markdown",
   "id": "0fba2926",
   "metadata": {},
   "source": [
    "실수형 대신 정수형으로 변환하려면 astype()에 인자로 'float' 대신 'int'를 입력한다.\n",
    "\n",
    "'origin' 열에는 정수형 데이터 1,2,3이 들어 있지만, 실제로는 국가이름 'USA, EU, JPN'을 뜻한다. \n",
    "\n",
    "replace() 메소드를 사용하여 각 숫자 데이터를 국가이름으로 바꿔주면 문자열을 나타내는 object자료형으로 자동 변경된다."
   ]
  },
  {
   "cell_type": "code",
   "execution_count": 15,
   "id": "0daf3132",
   "metadata": {},
   "outputs": [
    {
     "name": "stdout",
     "output_type": "stream",
     "text": [
      "[1 3 2]\n",
      "['USA' 'JAPAN' 'EU']\n",
      "object\n"
     ]
    }
   ],
   "source": [
    "# 라이브러리 불러오기\n",
    "import pandas as pd\n",
    "\n",
    "# read_csv() 함수로 df 생성\n",
    "df = pd.read_csv(r\"C:\\Users\\구남이\\Downloads\\5674-833_4th\\part5\\auto-mpg.csv\", header=None)\n",
    "# 열 이름을 지정\n",
    "df.columns = ['mpg','cylinders','displacement','horsepower','weight',\n",
    "              'acceleration','model year','origin','name'] \n",
    "\n",
    "# origin 열의 고유값 확인\n",
    "print(df['origin'].unique())\n",
    "\n",
    "# 정수형 데이터를 문자형 데이터로 변환 \n",
    "df['origin'].replace({1:'USA', 2:'EU', 3:'JAPAN'}, inplace=True)\n",
    "\n",
    "# origin 열의 고유값과 자료형 확인\n",
    "print(df['origin'].unique())\n",
    "print(df['origin'].dtypes) "
   ]
  },
  {
   "cell_type": "markdown",
   "id": "161292da",
   "metadata": {},
   "source": [
    "origin 열의 고유값을 보면 3개의 국가이름이 계속 반복된다. 유한 개의 고유값이 반복적으로 나타나는 경우에는 범주형 데이터로 표현하는 것이 효율적이므로 astype('category')메소드를 이용하여 범주형 데이터로 변환한다."
   ]
  },
  {
   "cell_type": "code",
   "execution_count": 17,
   "id": "c0cfe182",
   "metadata": {},
   "outputs": [
    {
     "name": "stdout",
     "output_type": "stream",
     "text": [
      "category\n"
     ]
    }
   ],
   "source": [
    "# 라이브러리 불러오기\n",
    "import pandas as pd\n",
    "\n",
    "# read_csv() 함수로 df 생성\n",
    "df = pd.read_csv(r\"C:\\Users\\구남이\\Downloads\\5674-833_4th\\part5\\auto-mpg.csv\", header=None)\n",
    "# 열 이름을 지정\n",
    "df.columns = ['mpg','cylinders','displacement','horsepower','weight',\n",
    "              'acceleration','model year','origin','name'] \n",
    "\n",
    "# origin 열의 문자열 자료형을 범주형으로 변환\n",
    "df['origin'] = df['origin'].astype('category')     \n",
    "print(df['origin'].dtypes) "
   ]
  },
  {
   "cell_type": "markdown",
   "id": "25f3fb93",
   "metadata": {},
   "source": [
    "'model year'의 자료형은 정수형(int64)다. 연도는 시간적인 순서의 이미는 있으나 숫자의 상대적인 크기는 별 의미가 없으므로 자료형은 범주형으로 바꿔준다."
   ]
  },
  {
   "cell_type": "code",
   "execution_count": 18,
   "id": "b50c7594",
   "metadata": {},
   "outputs": [
    {
     "name": "stdout",
     "output_type": "stream",
     "text": [
      "119    73\n",
      "87     73\n",
      "1      70\n",
      "Name: model year, dtype: int64\n",
      "340    81\n",
      "138    74\n",
      "47     71\n",
      "Name: model year, dtype: category\n",
      "Categories (13, int64): [70, 71, 72, 73, ..., 79, 80, 81, 82]\n"
     ]
    }
   ],
   "source": [
    "# 라이브러리 불러오기\n",
    "import pandas as pd\n",
    "\n",
    "# read_csv() 함수로 df 생성\n",
    "df = pd.read_csv(r\"C:\\Users\\구남이\\Downloads\\5674-833_4th\\part5\\auto-mpg.csv\", header=None)\n",
    "# 열 이름을 지정\n",
    "df.columns = ['mpg','cylinders','displacement','horsepower','weight',\n",
    "              'acceleration','model year','origin','name'] \n",
    "\n",
    "# model year 열의 정수형을 범주형으로 변환\n",
    "print(df['model year'].sample(3))\n",
    "df['model year'] = df['model year'].astype('category') \n",
    "print(df['model year'].sample(3)) "
   ]
  }
 ],
 "metadata": {
  "kernelspec": {
   "display_name": "Python 3 (ipykernel)",
   "language": "python",
   "name": "python3"
  },
  "language_info": {
   "codemirror_mode": {
    "name": "ipython",
    "version": 3
   },
   "file_extension": ".py",
   "mimetype": "text/x-python",
   "name": "python",
   "nbconvert_exporter": "python",
   "pygments_lexer": "ipython3",
   "version": "3.9.7"
  }
 },
 "nbformat": 4,
 "nbformat_minor": 5
}
