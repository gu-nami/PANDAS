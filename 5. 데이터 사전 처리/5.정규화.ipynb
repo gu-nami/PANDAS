{
 "cells": [
  {
   "cell_type": "markdown",
   "id": "ff7e6169",
   "metadata": {},
   "source": [
    "# 데이터 사전 처리\n",
    "\n",
    "### 5. 정규화\n",
    "\n",
    "각 변수(데이터프레임의 열)에 들어 있는 숫자 데이터의 상대적 크기 차이 때문에 머신러닝 분석 결과가 달라질 수 있다.\n",
    "\n",
    "숫자 데이터의 상대적인 크기차이를 제거하기 위해 각 열에 속하는 데이터 값을 동일한 크기 기준으로 나눈 비율로 나타내는 것을 정규화(normalization)라고 한다.\n",
    "정규화 과정을 거친 데이터의 범위는 0 ~ 1 또는 -1 ~ 1이 된다.\n",
    "&nbsp;\n",
    "\n",
    "&nbsp;\n",
    "1. 각 열(변수)의 데이터를 해당 열의 최대값(의 절대값)으로 나누기"
   ]
  },
  {
   "cell_type": "code",
   "execution_count": 4,
   "id": "c5e8941c",
   "metadata": {},
   "outputs": [
    {
     "name": "stdout",
     "output_type": "stream",
     "text": [
      "count    392.000000\n",
      "mean     104.469388\n",
      "std       38.491160\n",
      "min       46.000000\n",
      "25%       75.000000\n",
      "50%       93.500000\n",
      "75%      126.000000\n",
      "max      230.000000\n",
      "Name: horsepower, dtype: float64\n",
      "\n",
      "\n",
      "0    0.565217\n",
      "1    0.717391\n",
      "2    0.652174\n",
      "3    0.652174\n",
      "4    0.608696\n",
      "Name: horsepower, dtype: float64\n",
      "\n",
      "\n",
      "count    392.000000\n",
      "mean       0.454215\n",
      "std        0.167353\n",
      "min        0.200000\n",
      "25%        0.326087\n",
      "50%        0.406522\n",
      "75%        0.547826\n",
      "max        1.000000\n",
      "Name: horsepower, dtype: float64\n"
     ]
    }
   ],
   "source": [
    "# 라이브러리 불러오기\n",
    "import pandas as pd\n",
    "import numpy as np\n",
    "\n",
    "# read_csv() 함수로 df 생성\n",
    "df = pd.read_csv(r\"C:\\Users\\구남이\\Downloads\\5674-833_4th\\part5\\auto-mpg.csv\", header=None)\n",
    "\n",
    "# 열 이름을 지정\n",
    "df.columns = ['mpg','cylinders','displacement','horsepower','weight',\n",
    "              'acceleration','model year','origin','name']  \n",
    "\n",
    "# horsepower 열의 누락 데이터('?') 삭제하고 실수형으로 변환\n",
    "df['horsepower'].replace('?', np.nan, inplace=True)      # '?'을 np.nan으로 변경\n",
    "df.dropna(subset=['horsepower'], axis=0, inplace=True)   # 누락데이터 행을 삭제\n",
    "df['horsepower'] = df['horsepower'].astype('float')      # 문자열을 실수형으로 변환\n",
    "\n",
    "# horsepower 열의 통계 요약정보로 최대값(max)을 확인\n",
    "print(df.horsepower.describe())\n",
    "print('\\n')\n",
    "\n",
    "# horsepower 열의 최대값의 절대값으로 모든 데이터를 나눠서 저장\n",
    "df.horsepower = df.horsepower / abs(df.horsepower.max()) \n",
    "\n",
    "print(df.horsepower.head())\n",
    "print('\\n')\n",
    "print(df.horsepower.describe())"
   ]
  },
  {
   "cell_type": "markdown",
   "id": "ef8925e8",
   "metadata": {},
   "source": [
    "2. 각 열(변수)의 데이터 중에서 최대값(max)과 최소값(min)을 뺀 값으로 나누기\n",
    "![minmax scaling](data:image/png;base64,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)"
   ]
  },
  {
   "cell_type": "code",
   "execution_count": 6,
   "id": "e4a18e08",
   "metadata": {},
   "outputs": [
    {
     "name": "stdout",
     "output_type": "stream",
     "text": [
      "count    392.000000\n",
      "mean     104.469388\n",
      "std       38.491160\n",
      "min       46.000000\n",
      "25%       75.000000\n",
      "50%       93.500000\n",
      "75%      126.000000\n",
      "max      230.000000\n",
      "Name: horsepower, dtype: float64\n",
      "\n",
      "\n",
      "0    0.456522\n",
      "1    0.646739\n",
      "2    0.565217\n",
      "3    0.565217\n",
      "4    0.510870\n",
      "Name: horsepower, dtype: float64\n",
      "\n",
      "\n",
      "count    392.000000\n",
      "mean       0.317768\n",
      "std        0.209191\n",
      "min        0.000000\n",
      "25%        0.157609\n",
      "50%        0.258152\n",
      "75%        0.434783\n",
      "max        1.000000\n",
      "Name: horsepower, dtype: float64\n"
     ]
    }
   ],
   "source": [
    "# 라이브러리 불러오기\n",
    "import pandas as pd\n",
    "import numpy as np\n",
    "\n",
    "# read_csv() 함수로 df 생성\n",
    "df = pd.read_csv(r\"C:\\Users\\구남이\\Downloads\\5674-833_4th\\part5\\auto-mpg.csv\", header=None)\n",
    "\n",
    "# 열 이름을 지정\n",
    "df.columns = ['mpg','cylinders','displacement','horsepower','weight',\n",
    "              'acceleration','model year','origin','name']  \n",
    "\n",
    "# horsepower 열의 누락 데이터('?') 삭제하고 실수형으로 변환\n",
    "df['horsepower'].replace('?', np.nan, inplace=True)      # '?'을 np.nan으로 변경\n",
    "df.dropna(subset=['horsepower'], axis=0, inplace=True)   # 누락데이터 행을 삭제\n",
    "df['horsepower'] = df['horsepower'].astype('float')      # 문자열을 실수형으로 변환\n",
    "\n",
    "# horsepower 열의 통계 요약정보로 최대값(max)과 최소값(min)을 확인\n",
    "print(df.horsepower.describe())\n",
    "print('\\n')\n",
    "\n",
    "# horsepower 열의 최대값의 절대값으로 모든 데이터를 나눠서 저장\n",
    "min_x = df.horsepower - df.horsepower.min()\n",
    "min_max = df.horsepower.max() - df.horsepower.min()\n",
    "df.horsepower = min_x / min_max\n",
    "\n",
    "print(df.horsepower.head())\n",
    "print('\\n')\n",
    "print(df.horsepower.describe())"
   ]
  },
  {
   "cell_type": "code",
   "execution_count": null,
   "id": "0a12d5f6",
   "metadata": {},
   "outputs": [],
   "source": []
  }
 ],
 "metadata": {
  "kernelspec": {
   "display_name": "Python 3 (ipykernel)",
   "language": "python",
   "name": "python3"
  },
  "language_info": {
   "codemirror_mode": {
    "name": "ipython",
    "version": 3
   },
   "file_extension": ".py",
   "mimetype": "text/x-python",
   "name": "python",
   "nbconvert_exporter": "python",
   "pygments_lexer": "ipython3",
   "version": "3.9.7"
  }
 },
 "nbformat": 4,
 "nbformat_minor": 5
}
